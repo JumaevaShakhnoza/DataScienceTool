{
 "cells": [
  {
   "cell_type": "markdown",
   "id": "58706e88-d0c2-4a8d-8a69-102597c004f0",
   "metadata": {
    "tags": []
   },
   "source": [
    "# Data Science Tools and Ecosystem"
   ]
  },
  {
   "cell_type": "markdown",
   "id": "b06b08cd-494b-4a19-a5db-d567ca64495c",
   "metadata": {},
   "source": [
    "In this notebook, Data Science Tools and Ecosystem are summarized."
   ]
  },
  {
   "cell_type": "markdown",
   "id": "0fe0548d-df2c-4b36-921e-b8f32e511b89",
   "metadata": {
    "tags": []
   },
   "source": [
    "## Overview\n",
    "\n",
    "Some of the popular languages that Data Scientists use are:\n",
    "\n",
    "1. Python\n",
    "2. R\n",
    "3. Julia"
   ]
  },
  {
   "cell_type": "markdown",
   "id": "efe1dad8-a6f4-4495-8fb0-7f43de1b9287",
   "metadata": {},
   "source": [
    "## Overview\n",
    "Some of the popular libraries that Data Science use are:\n",
    "1. NumPy.\n",
    "2. Pandas.\n",
    "3. Matplotlib."
   ]
  },
  {
   "cell_type": "markdown",
   "id": "6981f5a3-ba8c-4674-bcea-cafd5630ebbd",
   "metadata": {
    "tags": []
   },
   "source": [
    "## Overview\n",
    "\n",
    "| Data Science Tools   |\n",
    "|----------------------|\n",
    "|Jyputer Notebook      |\n",
    "|RStudio               |\n",
    "|VS Code with Python   |"
   ]
  },
  {
   "cell_type": "markdown",
   "id": "1e8027c7-3f75-4c67-ac24-70f37e3873f8",
   "metadata": {
    "tags": []
   },
   "source": [
    "### Below are a few examples of evaluating arithmetic expressions in Python"
   ]
  },
  {
   "cell_type": "markdown",
   "id": "48bef80e-1b35-4d51-8548-77ca1b0e8f88",
   "metadata": {
    "tags": []
   },
   "source": [
    "# This a simple arithmetic expression to mutiply then add integers\n"
   ]
  },
  {
   "cell_type": "code",
   "execution_count": 7,
   "id": "eb3bc30b-0d54-43c6-ac49-cd8c622c8d2e",
   "metadata": {
    "tags": []
   },
   "outputs": [
    {
     "name": "stdout",
     "output_type": "stream",
     "text": [
      "17\n"
     ]
    }
   ],
   "source": [
    "result=(3*4)+5\n",
    "print(result)"
   ]
  },
  {
   "cell_type": "markdown",
   "id": "1fab9d71-b64d-48df-83bb-93da8a07d524",
   "metadata": {},
   "source": [
    "# This will convert 200 minutes to hours by diving by 60"
   ]
  },
  {
   "cell_type": "code",
   "execution_count": 8,
   "id": "64e5eb47-8bb1-4428-b13a-9ed17565b073",
   "metadata": {
    "tags": []
   },
   "outputs": [
    {
     "data": {
      "text/plain": [
       "3.3333333333333335"
      ]
     },
     "execution_count": 8,
     "metadata": {},
     "output_type": "execute_result"
    }
   ],
   "source": [
    "hours = 200 / 60\n",
    "hours"
   ]
  },
  {
   "cell_type": "markdown",
   "id": "85b748b4-200f-4e19-9341-0688930616f8",
   "metadata": {},
   "source": [
    "## Objectives:\n",
    "\n",
    "- List popular languages for Data Science.\n",
    "- Introduce common tools used in Data Science.\n",
    "- Highlight essential libraries for Data Science.\n",
    "- Provide an overview of the Data Science ecosystem."
   ]
  },
  {
   "cell_type": "markdown",
   "id": "8e947171-728e-4aa8-9bc0-c9e7648c45b6",
   "metadata": {},
   "source": [
    "## Author\n",
    "Jumaeva Shakhnoza"
   ]
  },
  {
   "cell_type": "code",
   "execution_count": null,
   "id": "29cf2dab-ff30-438b-a407-8044eea98c65",
   "metadata": {},
   "outputs": [],
   "source": []
  }
 ],
 "metadata": {
  "kernelspec": {
   "display_name": "Python",
   "language": "python",
   "name": "conda-env-python-py"
  },
  "language_info": {
   "codemirror_mode": {
    "name": "ipython",
    "version": 3
   },
   "file_extension": ".py",
   "mimetype": "text/x-python",
   "name": "python",
   "nbconvert_exporter": "python",
   "pygments_lexer": "ipython3",
   "version": "3.7.12"
  }
 },
 "nbformat": 4,
 "nbformat_minor": 5
}
